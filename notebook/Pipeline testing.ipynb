{
 "cells": [
  {
   "cell_type": "code",
   "execution_count": null,
   "id": "a7eb9629",
   "metadata": {},
   "outputs": [],
   "source": [
    "from black_friday.data_access.blackfriday_data import BlackFridayData\n",
    "from black_friday.entity.config_entity import DataIngestionConfig\n",
    "\n",
    "data_ingestion_config=DataIngestionConfig()\n",
    " \n",
    "data_ingestion_config = data_ingestion_config\n",
    "\n",
    "usvisa_data = BlackFridayData()\n",
    "dataframe = usvisa_data.export_collection_as_dataframe(collection_name=\n",
    "                                                        data_ingestion_config.collection_name)\n",
    "\n",
    "\n",
    "print(dataframe)\n"
   ]
  },
  {
   "cell_type": "code",
   "execution_count": null,
   "id": "3847a69a",
   "metadata": {},
   "outputs": [],
   "source": [
    "from black_friday.configuration.mongo_db_connection import MongoDBClient\n",
    "from black_friday.constants import DATABASE_NAME\n",
    "from black_friday.exception import BlackFridayException\n",
    "import pandas as pd\n",
    "import sys\n",
    "from typing import Optional\n",
    "import numpy as np\n",
    "\n",
    "\n",
    "\n",
    "class BlackFridayData:\n",
    "    \"\"\"\n",
    "    This class help to export entire mongo db record as pandas dataframe\n",
    "    \"\"\"\n",
    "\n",
    "    def __init__(self):\n",
    "        \"\"\"\n",
    "        \"\"\"\n",
    "        try:\n",
    "            self.mongo_client = MongoDBClient(database_name=DATABASE_NAME)\n",
    "        except Exception as e:\n",
    "            raise BlackFridayException(e,sys)\n",
    "        \n",
    "\n",
    "    def export_collection_as_dataframe(self,collection_name:str,database_name:Optional[str]=None)->pd.DataFrame:\n",
    "        try:\n",
    "            \"\"\"\n",
    "            export entire collectin as dataframe:\n",
    "            return pd.DataFrame of collection\n",
    "            \"\"\"\n",
    "            if database_name is None:\n",
    "                collection = self.mongo_client.database[collection_name]\n",
    "            else:\n",
    "                collection = self.mongo_client[database_name][collection_name]\n",
    "\n",
    "            df = pd.DataFrame(list(collection.find()))\n",
    "            if \"_id\" in df.columns.to_list():\n",
    "                df = df.drop(columns=[\"_id\"], axis=1)\n",
    "            df.replace({\"na\":np.nan},inplace=True)\n",
    "            return df\n",
    "        except Exception as e:\n",
    "            raise BlackFridayException(e,sys)"
   ]
  },
  {
   "cell_type": "code",
   "execution_count": null,
   "id": "bc9d9954",
   "metadata": {},
   "outputs": [],
   "source": [
    "import sys\n",
    "\n",
    "from black_friday.exception import BlackFridayException\n",
    "from black_friday.logger import logging\n",
    "\n",
    "import os\n",
    "from black_friday.constants import DATABASE_NAME, MONGODB_URL_KEY\n",
    "import pymongo\n",
    "import certifi\n",
    "\n",
    "ca = certifi.where()\n",
    "\n",
    "class MongoDBClient:\n",
    "    \"\"\"\n",
    "    Class Name :   export_data_into_feature_store\n",
    "    Description :   This method exports the dataframe from mongodb feature store as dataframe \n",
    "    \n",
    "    Output      :   connection to mongodb database\n",
    "    On Failure  :   raises an exception\n",
    "    \"\"\"\n",
    "    client = None\n",
    "\n",
    "    def __init__(self, database_name=DATABASE_NAME) -> None:\n",
    "        try:\n",
    "            if MongoDBClient.client is None:\n",
    "                mongo_db_url = os.getenv(MONGODB_URL_KEY)\n",
    "                if mongo_db_url is None:\n",
    "                    raise Exception(f\"Environment key: {MONGODB_URL_KEY} is not set.\")\n",
    "                MongoDBClient.client = pymongo.MongoClient(mongo_db_url, tlsCAFile=ca)\n",
    "            self.client = MongoDBClient.client\n",
    "            self.database = self.client[database_name]\n",
    "            self.database_name = database_name\n",
    "            logging.info(\"MongoDB connection succesfull\")\n",
    "        except Exception as e:\n",
    "            raise BlackFridayException(e,sys)"
   ]
  },
  {
   "cell_type": "code",
   "execution_count": null,
   "id": "6f2992a4",
   "metadata": {},
   "outputs": [],
   "source": []
  },
  {
   "cell_type": "code",
   "execution_count": null,
   "id": "99b89a0a",
   "metadata": {},
   "outputs": [],
   "source": []
  },
  {
   "cell_type": "code",
   "execution_count": null,
   "id": "a1427cf1",
   "metadata": {},
   "outputs": [],
   "source": []
  },
  {
   "cell_type": "code",
   "execution_count": null,
   "id": "26308fe2",
   "metadata": {},
   "outputs": [],
   "source": []
  },
  {
   "cell_type": "code",
   "execution_count": null,
   "id": "cff526ca",
   "metadata": {},
   "outputs": [],
   "source": []
  },
  {
   "cell_type": "code",
   "execution_count": null,
   "id": "39029a2c",
   "metadata": {},
   "outputs": [],
   "source": []
  },
  {
   "cell_type": "code",
   "execution_count": null,
   "id": "db3dedec",
   "metadata": {},
   "outputs": [],
   "source": []
  },
  {
   "cell_type": "code",
   "execution_count": null,
   "id": "026224c4",
   "metadata": {},
   "outputs": [],
   "source": []
  },
  {
   "cell_type": "code",
   "execution_count": null,
   "id": "ca286057",
   "metadata": {},
   "outputs": [],
   "source": []
  },
  {
   "cell_type": "code",
   "execution_count": null,
   "id": "dbf81139",
   "metadata": {},
   "outputs": [],
   "source": []
  },
  {
   "cell_type": "code",
   "execution_count": null,
   "id": "4081c6f6",
   "metadata": {},
   "outputs": [],
   "source": []
  },
  {
   "cell_type": "code",
   "execution_count": null,
   "id": "32cb8003",
   "metadata": {},
   "outputs": [],
   "source": []
  }
 ],
 "metadata": {
  "kernelspec": {
   "display_name": "Python 3 (ipykernel)",
   "language": "python",
   "name": "python3"
  },
  "language_info": {
   "codemirror_mode": {
    "name": "ipython",
    "version": 3
   },
   "file_extension": ".py",
   "mimetype": "text/x-python",
   "name": "python",
   "nbconvert_exporter": "python",
   "pygments_lexer": "ipython3",
   "version": "3.8.19"
  }
 },
 "nbformat": 4,
 "nbformat_minor": 5
}
